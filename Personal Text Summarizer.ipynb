{
 "cells": [
  {
   "cell_type": "markdown",
   "metadata": {},
   "source": [
    "## Import libraries and dataset"
   ]
  },
  {
   "cell_type": "code",
   "execution_count": 1,
   "metadata": {},
   "outputs": [
    {
     "name": "stderr",
     "output_type": "stream",
     "text": [
      "[nltk_data] Downloading package stopwords to\n",
      "[nltk_data]     C:\\Users\\Louis.Teo\\AppData\\Roaming\\nltk_data...\n",
      "[nltk_data]   Package stopwords is already up-to-date!\n"
     ]
    }
   ],
   "source": [
    "import nltk\n",
    "nltk.download('stopwords')\n",
    "import re\n",
    "import heapq"
   ]
  },
  {
   "cell_type": "code",
   "execution_count": 2,
   "metadata": {},
   "outputs": [],
   "source": [
    "file = open('Apple Acquires AI Startup.txt', \"r\")\n",
    "filedata = file.readlines()"
   ]
  },
  {
   "cell_type": "code",
   "execution_count": 3,
   "metadata": {},
   "outputs": [
    {
     "name": "stdout",
     "output_type": "stream",
     "text": [
      "['In an attempt to scale up its AI portfolio, Apple has acquired Spain-based AI video startup — Vilynx for approximately $50 million.\\n', '\\n', 'Reported by Bloomberg, the AI startup — Vilynx is headquartered in Barcelona, which is known to build software using computer vision to analyse a video’s visual, text, and audio content with the goal of “understanding” what’s in the video. This helps it categorising and tagging metadata to the videos, as well as generate automated video previews, and recommend related content to users, according to the company website.\\n', '\\n', 'Apple told the media that the company typically acquires smaller technology companies from time to time, and with the recent buy, the company could potentially use Vilynx’s technology to help improve a variety of apps. According to the media, Siri, search, Photos, and other apps that rely on Apple are possible candidates as are Apple TV, Music, News, to name a few that are going to be revolutionised with Vilynx’s technology.\\n', '\\n', 'With CEO Tim Cook’s vision of the potential of augmented reality, the company could also make use of AI-based tools like Vilynx. \\n', '\\n', 'The purchase will also advance Apple’s AI expertise, adding up to 50 engineers and data scientists joining from Vilynx, and the startup is going to become one of Apple’s key AI research hubs in Europe, according to the news.\\n', '\\n', 'Apple has made significant progress in the space of artificial intelligence over the past few months, with this purchase of UK-based Spectral Edge last December, Seattle-based Xnor.ai for $200 million and Voysis and Inductiv to help it improve Siri. With its habit of quietly purchasing smaller companies, Apple is making a mark in the AI space. In 2018, CEO Tim Cook said in an interview that the company had bought 20 companies over six months, while only six were public knowledge.']\n"
     ]
    }
   ],
   "source": [
    "# view dataset\n",
    "print(filedata)"
   ]
  },
  {
   "cell_type": "markdown",
   "metadata": {},
   "source": [
    "## Preprocess text"
   ]
  },
  {
   "cell_type": "code",
   "execution_count": 4,
   "metadata": {},
   "outputs": [
    {
     "name": "stdout",
     "output_type": "stream",
     "text": [
      "In an attempt to scale up its AI portfolio, Apple has acquired Spain-based AI video startup — Vilynx for approximately $50 million.\n",
      " \n",
      " Reported by Bloomberg, the AI startup — Vilynx is headquartered in Barcelona, which is known to build software using computer vision to analyse a video’s visual, text, and audio content with the goal of “understanding” what’s in the video. This helps it categorising and tagging metadata to the videos, as well as generate automated video previews, and recommend related content to users, according to the company website.\n",
      " \n",
      " Apple told the media that the company typically acquires smaller technology companies from time to time, and with the recent buy, the company could potentially use Vilynx’s technology to help improve a variety of apps. According to the media, Siri, search, Photos, and other apps that rely on Apple are possible candidates as are Apple TV, Music, News, to name a few that are going to be revolutionised with Vilynx’s technology.\n",
      " \n",
      " With CEO Tim Cook’s vision of the potential of augmented reality, the company could also make use of AI-based tools like Vilynx. \n",
      " \n",
      " The purchase will also advance Apple’s AI expertise, adding up to 50 engineers and data scientists joining from Vilynx, and the startup is going to become one of Apple’s key AI research hubs in Europe, according to the news.\n",
      " \n",
      " Apple has made significant progress in the space of artificial intelligence over the past few months, with this purchase of UK-based Spectral Edge last December, Seattle-based Xnor.ai for $200 million and Voysis and Inductiv to help it improve Siri. With its habit of quietly purchasing smaller companies, Apple is making a mark in the AI space. In 2018, CEO Tim Cook said in an interview that the company had bought 20 companies over six months, while only six were public knowledge.\n"
     ]
    }
   ],
   "source": [
    "# join the elements in list to become a string of text\n",
    "text = \" \".join(filedata)\n",
    "print(text)"
   ]
  },
  {
   "cell_type": "code",
   "execution_count": 5,
   "metadata": {},
   "outputs": [
    {
     "name": "stdout",
     "output_type": "stream",
     "text": [
      "In an attempt to scale up its AI portfolio, Apple has acquired Spain-based AI video startup — Vilynx for approximately $50 million. Reported by Bloomberg, the AI startup — Vilynx is headquartered in Barcelona, which is known to build software using computer vision to analyse a video’s visual, text, and audio content with the goal of “understanding” what’s in the video. This helps it categorising and tagging metadata to the videos, as well as generate automated video previews, and recommend related content to users, according to the company website. Apple told the media that the company typically acquires smaller technology companies from time to time, and with the recent buy, the company could potentially use Vilynx’s technology to help improve a variety of apps. According to the media, Siri, search, Photos, and other apps that rely on Apple are possible candidates as are Apple TV, Music, News, to name a few that are going to be revolutionised with Vilynx’s technology. With CEO Tim Cook’s vision of the potential of augmented reality, the company could also make use of AI-based tools like Vilynx. The purchase will also advance Apple’s AI expertise, adding up to 50 engineers and data scientists joining from Vilynx, and the startup is going to become one of Apple’s key AI research hubs in Europe, according to the news. Apple has made significant progress in the space of artificial intelligence over the past few months, with this purchase of UK-based Spectral Edge last December, Seattle-based Xnor.ai for $200 million and Voysis and Inductiv to help it improve Siri. With its habit of quietly purchasing smaller companies, Apple is making a mark in the AI space. In 2018, CEO Tim Cook said in an interview that the company had bought 20 companies over six months, while only six were public knowledge.\n"
     ]
    }
   ],
   "source": [
    "text = re.sub(r'\\[[0-9]*\\]',' ',text) # replace references number i.e. [1], [10], [20] with empty space, if any..\n",
    "text = re.sub(r'\\s+',' ',text) # replace one or more spaces with a single space\n",
    "print(text)"
   ]
  },
  {
   "cell_type": "code",
   "execution_count": 6,
   "metadata": {},
   "outputs": [
    {
     "name": "stdout",
     "output_type": "stream",
     "text": [
      "in an attempt to scale up its ai portfolio apple has acquired spain based ai video startup vilynx for approximately million reported by bloomberg the ai startup vilynx is headquartered in barcelona which is known to build software using computer vision to analyse a video s visual text and audio content with the goal of understanding what s in the video this helps it categorising and tagging metadata to the videos as well as generate automated video previews and recommend related content to users according to the company website apple told the media that the company typically acquires smaller technology companies from time to time and with the recent buy the company could potentially use vilynx s technology to help improve a variety of apps according to the media siri search photos and other apps that rely on apple are possible candidates as are apple tv music news to name a few that are going to be revolutionised with vilynx s technology with ceo tim cook s vision of the potential of augmented reality the company could also make use of ai based tools like vilynx the purchase will also advance apple s ai expertise adding up to engineers and data scientists joining from vilynx and the startup is going to become one of apple s key ai research hubs in europe according to the news apple has made significant progress in the space of artificial intelligence over the past few months with this purchase of uk based spectral edge last december seattle based xnor ai for million and voysis and inductiv to help it improve siri with its habit of quietly purchasing smaller companies apple is making a mark in the ai space in ceo tim cook said in an interview that the company had bought companies over six months while only six were public knowledge \n"
     ]
    }
   ],
   "source": [
    "# generate clean text for word histogram\n",
    "clean_text = text.lower() # text with lower case \n",
    "clean_text = re.sub(r'\\W',' ',clean_text) # replace character other than [a-zA-Z0-9] with empty space\n",
    "clean_text = re.sub(r'\\d',' ',clean_text) # replace digit with empty space\n",
    "clean_text = re.sub(r'\\s+',' ',clean_text) # replace one or more spaces with a single space\n",
    "\n",
    "print(clean_text)"
   ]
  },
  {
   "cell_type": "markdown",
   "metadata": {},
   "source": [
    "## Split text into sentences"
   ]
  },
  {
   "cell_type": "code",
   "execution_count": 7,
   "metadata": {},
   "outputs": [
    {
     "name": "stdout",
     "output_type": "stream",
     "text": [
      "['In an attempt to scale up its AI portfolio, Apple has acquired Spain-based AI video startup — Vilynx for approximately $50 million.', 'Reported by Bloomberg, the AI startup — Vilynx is headquartered in Barcelona, which is known to build software using computer vision to analyse a video’s visual, text, and audio content with the goal of “understanding” what’s in the video.', 'This helps it categorising and tagging metadata to the videos, as well as generate automated video previews, and recommend related content to users, according to the company website.', 'Apple told the media that the company typically acquires smaller technology companies from time to time, and with the recent buy, the company could potentially use Vilynx’s technology to help improve a variety of apps.', 'According to the media, Siri, search, Photos, and other apps that rely on Apple are possible candidates as are Apple TV, Music, News, to name a few that are going to be revolutionised with Vilynx’s technology.', 'With CEO Tim Cook’s vision of the potential of augmented reality, the company could also make use of AI-based tools like Vilynx.', 'The purchase will also advance Apple’s AI expertise, adding up to 50 engineers and data scientists joining from Vilynx, and the startup is going to become one of Apple’s key AI research hubs in Europe, according to the news.', 'Apple has made significant progress in the space of artificial intelligence over the past few months, with this purchase of UK-based Spectral Edge last December, Seattle-based Xnor.ai for $200 million and Voysis and Inductiv to help it improve Siri.', 'With its habit of quietly purchasing smaller companies, Apple is making a mark in the AI space.', 'In 2018, CEO Tim Cook said in an interview that the company had bought 20 companies over six months, while only six were public knowledge.']\n"
     ]
    }
   ],
   "source": [
    "# split (tokenize) the sentences\n",
    "sentences = nltk.sent_tokenize(text)\n",
    "print(sentences)"
   ]
  },
  {
   "cell_type": "markdown",
   "metadata": {},
   "source": [
    "## Remove stop words"
   ]
  },
  {
   "cell_type": "code",
   "execution_count": 8,
   "metadata": {},
   "outputs": [],
   "source": [
    "# get stop words list\n",
    "stop_words = nltk.corpus.stopwords.words('english')"
   ]
  },
  {
   "cell_type": "markdown",
   "metadata": {},
   "source": [
    "## Build word histogram"
   ]
  },
  {
   "cell_type": "code",
   "execution_count": 9,
   "metadata": {},
   "outputs": [],
   "source": [
    "# create empty dictionary to house the word count\n",
    "word_count = {}\n",
    "\n",
    "# loop through tokenized words, remove stop words and save word count to dictionary\n",
    "for word in nltk.word_tokenize(text):\n",
    "    # remove stop words\n",
    "    if word not in stop_words:\n",
    "        # save word count to dictionary\n",
    "        if word not in word_count.keys():\n",
    "            word_count[word] = 1\n",
    "        else:\n",
    "            word_count[word] += 1"
   ]
  },
  {
   "cell_type": "code",
   "execution_count": 10,
   "metadata": {},
   "outputs": [],
   "source": [
    "# convert word counts to weights (maximum value = 1.0)\n",
    "for key in word_count.keys():\n",
    "    word_count[key] = word_count[key]/max(word_count.values())"
   ]
  },
  {
   "cell_type": "markdown",
   "metadata": {},
   "source": [
    "## Rank sentences based on scores"
   ]
  },
  {
   "cell_type": "code",
   "execution_count": 11,
   "metadata": {},
   "outputs": [],
   "source": [
    "# create empty dictionary to house sentence score    \n",
    "sentence_score = {}\n",
    "\n",
    "# loop through tokennized sentence, only take sentence that has less than 25 words, then add word weight to sentence score\n",
    "for sentence in sentences:\n",
    "    # check if word in sentence is in word_count dictionary\n",
    "    for word in nltk.word_tokenize(sentence.lower()):\n",
    "        if word in word_count.keys():\n",
    "            # only take sentence that has less than 25 words\n",
    "            if len(sentence.split(' ')) < 25:\n",
    "                # add word weight to sentence score\n",
    "                if sentence not in sentence_score.keys():\n",
    "                    sentence_score[sentence] = word_count[word]\n",
    "                else:\n",
    "                    sentence_score[sentence] += word_count[word]"
   ]
  },
  {
   "cell_type": "markdown",
   "metadata": {},
   "source": [
    "## Select top sentences for summary"
   ]
  },
  {
   "cell_type": "code",
   "execution_count": 12,
   "metadata": {},
   "outputs": [],
   "source": [
    "# display the best 3 sentences for summary             \n",
    "best_sentences = heapq.nlargest(3, sentence_score, key=sentence_score.get)"
   ]
  },
  {
   "cell_type": "code",
   "execution_count": 13,
   "metadata": {},
   "outputs": [
    {
     "name": "stdout",
     "output_type": "stream",
     "text": [
      "SUMMARY\n",
      "------------------------\n",
      "With CEO Tim Cook’s vision of the potential of augmented reality, the company could also make use of AI-based tools like Vilynx.\n",
      "\n",
      "\n",
      "With its habit of quietly purchasing smaller companies, Apple is making a mark in the AI space.\n",
      "\n",
      "\n",
      "In an attempt to scale up its AI portfolio, Apple has acquired Spain-based AI video startup — Vilynx for approximately $50 million.\n",
      "\n",
      "\n"
     ]
    }
   ],
   "source": [
    "print('SUMMARY')\n",
    "print('------------------------')\n",
    "for sentence in best_sentences:\n",
    "    print (sentence)\n",
    "    print('\\n')"
   ]
  }
 ],
 "metadata": {
  "kernelspec": {
   "display_name": "Python 3",
   "language": "python",
   "name": "python3"
  },
  "language_info": {
   "codemirror_mode": {
    "name": "ipython",
    "version": 3
   },
   "file_extension": ".py",
   "mimetype": "text/x-python",
   "name": "python",
   "nbconvert_exporter": "python",
   "pygments_lexer": "ipython3",
   "version": "3.7.7"
  }
 },
 "nbformat": 4,
 "nbformat_minor": 4
}
